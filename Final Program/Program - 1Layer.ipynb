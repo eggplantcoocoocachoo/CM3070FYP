{
 "cells": [
  {
   "cell_type": "code",
   "execution_count": 1,
   "id": "aa5ad3ab",
   "metadata": {
    "scrolled": true
   },
   "outputs": [
    {
     "name": "stdout",
     "output_type": "stream",
     "text": [
      "Requirement already satisfied: pip in c:\\users\\infin\\appdata\\roaming\\python\\python38\\site-packages (24.2)\n"
     ]
    }
   ],
   "source": [
    "from __future__ import annotations\n",
    "!pip install --user --upgrade pip"
   ]
  },
  {
   "cell_type": "markdown",
   "id": "92d15769",
   "metadata": {},
   "source": [
    "Upgrades pip, optional. Requires --user permissions and can be bypassed and done manually."
   ]
  },
  {
   "cell_type": "code",
   "execution_count": 3,
   "id": "3b0d49f3",
   "metadata": {},
   "outputs": [],
   "source": [
    "#!pip install python==3.11.9\n",
    "#!pip install tensorflow==2.3\n",
    "#!pip install keras==2.4.3\n",
    "#!pip install numpy==1.23.1\n",
    "#!pip install scikit-learn"
   ]
  },
  {
   "cell_type": "markdown",
   "id": "45552c88",
   "metadata": {},
   "source": [
    "Installs and runs Tensorflow and Keras, main dependencies of ANN models."
   ]
  },
  {
   "cell_type": "code",
   "execution_count": 5,
   "id": "df16915f",
   "metadata": {},
   "outputs": [],
   "source": [
    "import pandas as pd\n",
    "\n",
    "flatdb = pd.read_csv(\"datasets\\completed_flat_price_2017_2023.csv\")\n",
    "cpidb = pd.read_csv(\"datasets\\CPI_2000to2022Feb.csv\")"
   ]
  },
  {
   "cell_type": "markdown",
   "id": "6ea7953e",
   "metadata": {},
   "source": [
    "Imports pandas and reads CSV files in local /datasets folder."
   ]
  },
  {
   "cell_type": "code",
   "execution_count": 7,
   "id": "2f2d104f",
   "metadata": {},
   "outputs": [
    {
     "name": "stdout",
     "output_type": "stream",
     "text": [
      "          month        town  flat_type  floor_area_sqm      flat_model  \\\n",
      "0       2017-01  ANG MO KIO     2 ROOM            44.0        Improved   \n",
      "1       2017-01  ANG MO KIO     3 ROOM            67.0  New Generation   \n",
      "2       2017-01  ANG MO KIO     3 ROOM            67.0  New Generation   \n",
      "3       2017-01  ANG MO KIO     3 ROOM            68.0  New Generation   \n",
      "4       2017-01  ANG MO KIO     3 ROOM            67.0  New Generation   \n",
      "...         ...         ...        ...             ...             ...   \n",
      "146867  2023-02      YISHUN     5 ROOM           127.0        Improved   \n",
      "146868  2023-02      YISHUN     5 ROOM           122.0        Improved   \n",
      "146869  2023-02      YISHUN  EXECUTIVE           181.0       Apartment   \n",
      "146870  2023-02      YISHUN  EXECUTIVE           146.0      Maisonette   \n",
      "146871  2023-02      YISHUN  EXECUTIVE           142.0       Apartment   \n",
      "\n",
      "        lease_commence_date  resale_price  \n",
      "0                      1979      232000.0  \n",
      "1                      1978      250000.0  \n",
      "2                      1980      262000.0  \n",
      "3                      1980      265000.0  \n",
      "4                      1980      265000.0  \n",
      "...                     ...           ...  \n",
      "146867                 1988      700000.0  \n",
      "146868                 1988      700000.0  \n",
      "146869                 1992     1068000.0  \n",
      "146870                 1988      838000.0  \n",
      "146871                 1987      765000.0  \n",
      "\n",
      "[146872 rows x 7 columns]\n"
     ]
    }
   ],
   "source": [
    "flatdb2 = flatdb.drop(columns=['block','street_name','storey_range','full_address','remaining_lease','Longitude','Latitude'])\n",
    "print(flatdb2)"
   ]
  },
  {
   "cell_type": "markdown",
   "id": "5a34b4fa",
   "metadata": {},
   "source": [
    "Isolation of dataset contents into classifiable features, stored in flatdb2 to preserve original imported dataset as contingency."
   ]
  },
  {
   "cell_type": "code",
   "execution_count": 9,
   "id": "e414a35e",
   "metadata": {},
   "outputs": [
    {
     "name": "stdout",
     "output_type": "stream",
     "text": [
      "     Tranc_Yr Tranc_Mth  CPI Housing\n",
      "0        2000        01       75.962\n",
      "1        2000        02       75.961\n",
      "2        2000        03       75.961\n",
      "3        2000        04       75.962\n",
      "4        2000        05       75.962\n",
      "..        ...       ...          ...\n",
      "273      2022        10      106.702\n",
      "274      2022        11      108.770\n",
      "275      2022        12      109.040\n",
      "276      2023        01      109.290\n",
      "277      2023        02      109.350\n",
      "\n",
      "[278 rows x 3 columns]\n"
     ]
    }
   ],
   "source": [
    "g = cpidb['Tranc_Mth'].unique()\n",
    "\n",
    "cpidb2 = cpidb.replace(g, ['01', '02', '03', '04', '05', '06', '07', '08', '09', '10', '11', '12'])\n",
    "print(cpidb2)"
   ]
  },
  {
   "cell_type": "code",
   "execution_count": 10,
   "id": "f5119f13",
   "metadata": {},
   "outputs": [
    {
     "name": "stdout",
     "output_type": "stream",
     "text": [
      "       month  CPI Housing\n",
      "0    2000-01       75.962\n",
      "1    2000-02       75.961\n",
      "2    2000-03       75.961\n",
      "3    2000-04       75.962\n",
      "4    2000-05       75.962\n",
      "..       ...          ...\n",
      "273  2022-10      106.702\n",
      "274  2022-11      108.770\n",
      "275  2022-12      109.040\n",
      "276  2023-01      109.290\n",
      "277  2023-02      109.350\n",
      "\n",
      "[278 rows x 2 columns]\n"
     ]
    }
   ],
   "source": [
    "data = []\n",
    "for i in range(len(cpidb2)):\n",
    "    data.append((str(cpidb2['Tranc_Yr'][i]) + \"-\" + str(cpidb2['Tranc_Mth'][i])))\n",
    "    \n",
    "data2 = {\n",
    "    \"month\" : data,\n",
    "    \"CPI Housing\" : cpidb2['CPI Housing']\n",
    "}\n",
    "\n",
    "cpidb3 = pd.DataFrame(data2)\n",
    "print(cpidb3)"
   ]
  },
  {
   "cell_type": "code",
   "execution_count": 11,
   "id": "f72b3a71",
   "metadata": {},
   "outputs": [],
   "source": [
    "data = []\n",
    "for i in range(len(flatdb2)):\n",
    "    a = int(flatdb2['month'][i][:4])\n",
    "    if a >= 2000 and a < 2021:\n",
    "        data.append(flatdb2.iloc[i])\n",
    "        \n",
    "trainset = pd.DataFrame(data)\n",
    "\n",
    "data = []\n",
    "for i in range(len(flatdb2)):\n",
    "    a = int(flatdb2['month'][i][:4])\n",
    "    if a >= 2021 and a <= 2023:\n",
    "        data.append(flatdb2.iloc[i])\n",
    "        \n",
    "testset = pd.DataFrame(data)"
   ]
  },
  {
   "cell_type": "code",
   "execution_count": 12,
   "id": "dfa05921",
   "metadata": {},
   "outputs": [
    {
     "name": "stdout",
     "output_type": "stream",
     "text": [
      "         month  town  flat_type  floor_area_sqm  flat_model  \\\n",
      "0      2017-01     0          0            44.0           0   \n",
      "1      2017-01     0          1            67.0           1   \n",
      "2      2017-01     0          1            67.0           1   \n",
      "3      2017-01     0          1            68.0           1   \n",
      "4      2017-01     0          1            67.0           1   \n",
      "...        ...   ...        ...             ...         ...   \n",
      "87584  2020-12    25          4           146.0          10   \n",
      "87585  2020-12    25          4           145.0           4   \n",
      "87586  2020-12    25          4           142.0           4   \n",
      "87587  2020-12    25          4           146.0          10   \n",
      "87588  2020-12    25          4           142.0           4   \n",
      "\n",
      "       lease_commence_date  resale_price  \n",
      "0                     1979      232000.0  \n",
      "1                     1978      250000.0  \n",
      "2                     1980      262000.0  \n",
      "3                     1980      265000.0  \n",
      "4                     1980      265000.0  \n",
      "...                    ...           ...  \n",
      "87584                 1988      560000.0  \n",
      "87585                 1988      540000.0  \n",
      "87586                 1987      638000.0  \n",
      "87587                 1988      683500.0  \n",
      "87588                 1987      670000.0  \n",
      "\n",
      "[87589 rows x 7 columns]\n"
     ]
    }
   ],
   "source": [
    "train2set = trainset\n",
    "\n",
    "num = []\n",
    "for i in range(len(trainset['town'].unique())):\n",
    "    num.append(i)\n",
    "    \n",
    "arg = dict(zip(trainset['town'].unique(),num))\n",
    "\n",
    "train2set['town'] = train2set['town'].map(arg)\n",
    "\n",
    "num = []\n",
    "for i in range(len(trainset['flat_type'].unique())):\n",
    "    num.append(i)\n",
    "\n",
    "arg = dict(zip(trainset['flat_type'].unique(),num))\n",
    "\n",
    "train2set['flat_type'] = train2set['flat_type'].map(arg)\n",
    "\n",
    "num = []\n",
    "for i in range(len(trainset['flat_model'].unique())):\n",
    "    num.append(i)\n",
    "\n",
    "arg = dict(zip(trainset['flat_model'].unique(),num))\n",
    "\n",
    "train2set['flat_model'] = train2set['flat_model'].map(arg)\n",
    "\n",
    "print(train2set)"
   ]
  },
  {
   "cell_type": "code",
   "execution_count": 13,
   "id": "380b59f2",
   "metadata": {
    "scrolled": true
   },
   "outputs": [
    {
     "name": "stdout",
     "output_type": "stream",
     "text": [
      "          month  town  flat_type  floor_area_sqm  flat_model  \\\n",
      "87589   2021-01     0          0            45.0           0   \n",
      "87590   2021-01     0          0            45.0           0   \n",
      "87591   2021-01     0          1            68.0           1   \n",
      "87592   2021-01     0          1            68.0           1   \n",
      "87593   2021-01     0          1            68.0           1   \n",
      "...         ...   ...        ...             ...         ...   \n",
      "146867  2023-02    25          3           127.0           0   \n",
      "146868  2023-02    25          3           122.0           0   \n",
      "146869  2023-02    25          4           181.0           6   \n",
      "146870  2023-02    25          4           146.0           7   \n",
      "146871  2023-02    25          4           142.0           6   \n",
      "\n",
      "        lease_commence_date  resale_price  \n",
      "87589                  1986      211000.0  \n",
      "87590                  1986      225000.0  \n",
      "87591                  1981      260000.0  \n",
      "87592                  1980      265000.0  \n",
      "87593                  1980      265000.0  \n",
      "...                     ...           ...  \n",
      "146867                 1988      700000.0  \n",
      "146868                 1988      700000.0  \n",
      "146869                 1992     1068000.0  \n",
      "146870                 1988      838000.0  \n",
      "146871                 1987      765000.0  \n",
      "\n",
      "[59283 rows x 7 columns]\n"
     ]
    }
   ],
   "source": [
    "test2set = testset\n",
    "\n",
    "num = []\n",
    "for i in range(len(testset['town'].unique())):\n",
    "    num.append(i)\n",
    "    \n",
    "arg = dict(zip(testset['town'].unique(),num))\n",
    "\n",
    "test2set['town'] = test2set['town'].map(arg)\n",
    "\n",
    "num = []\n",
    "for i in range(len(testset['flat_type'].unique())):\n",
    "    num.append(i)\n",
    "\n",
    "arg = dict(zip(testset['flat_type'].unique(),num))\n",
    "\n",
    "test2set['flat_type'] = test2set['flat_type'].map(arg)\n",
    "\n",
    "num = []\n",
    "for i in range(len(testset['flat_model'].unique())):\n",
    "    num.append(i)\n",
    "\n",
    "arg = dict(zip(testset['flat_model'].unique(),num))\n",
    "\n",
    "test2set['flat_model'] = test2set['flat_model'].map(arg)\n",
    "\n",
    "print(test2set)"
   ]
  },
  {
   "cell_type": "code",
   "execution_count": 14,
   "id": "da1aa411",
   "metadata": {},
   "outputs": [
    {
     "name": "stdout",
     "output_type": "stream",
     "text": [
      "         month  town  flat_type  floor_area_sqm  flat_model  \\\n",
      "0      2017-01     0          0            44.0           0   \n",
      "1      2017-01     0          1            67.0           1   \n",
      "2      2017-01     0          1            67.0           1   \n",
      "3      2017-01     0          1            68.0           1   \n",
      "4      2017-01     0          1            67.0           1   \n",
      "...        ...   ...        ...             ...         ...   \n",
      "87584  2020-12    25          4           146.0          10   \n",
      "87585  2020-12    25          4           145.0           4   \n",
      "87586  2020-12    25          4           142.0           4   \n",
      "87587  2020-12    25          4           146.0          10   \n",
      "87588  2020-12    25          4           142.0           4   \n",
      "\n",
      "       lease_commence_date  resale_price  CPI Housing  \n",
      "0                     1979      232000.0      106.614  \n",
      "1                     1978      250000.0      106.614  \n",
      "2                     1980      262000.0      106.614  \n",
      "3                     1980      265000.0      106.614  \n",
      "4                     1980      265000.0      106.614  \n",
      "...                    ...           ...          ...  \n",
      "87584                 1988      560000.0      101.119  \n",
      "87585                 1988      540000.0      101.119  \n",
      "87586                 1987      638000.0      101.119  \n",
      "87587                 1988      683500.0      101.119  \n",
      "87588                 1987      670000.0      101.119  \n",
      "\n",
      "[87589 rows x 8 columns]\n"
     ]
    }
   ],
   "source": [
    "train3set = train2set.merge(cpidb3, on='month')\n",
    "print(train3set)\n",
    "test3set = test2set.merge(cpidb3, on='month')"
   ]
  },
  {
   "cell_type": "code",
   "execution_count": 15,
   "id": "f379d446-a85b-49a8-b85a-bbfaa2f79874",
   "metadata": {},
   "outputs": [
    {
     "name": "stdout",
     "output_type": "stream",
     "text": [
      "Index(['month', 'town', 'flat_type', 'floor_area_sqm', 'flat_model',\n",
      "       'lease_commence_date', 'resale_price', 'CPI Housing'],\n",
      "      dtype='object')\n"
     ]
    }
   ],
   "source": [
    "print(train3set.columns)"
   ]
  },
  {
   "cell_type": "code",
   "execution_count": 16,
   "id": "97d5487e-cea6-46fc-b1eb-ab22ec3ad9ad",
   "metadata": {
    "scrolled": true
   },
   "outputs": [
    {
     "name": "stdout",
     "output_type": "stream",
     "text": [
      "0        2.320\n",
      "1        2.500\n",
      "2        2.620\n",
      "3        2.650\n",
      "4        2.650\n",
      "         ...  \n",
      "87584    5.600\n",
      "87585    5.400\n",
      "87586    6.380\n",
      "87587    6.835\n",
      "87588    6.700\n",
      "Name: resale_price, Length: 87589, dtype: float64 0         2.11\n",
      "1         2.25\n",
      "2         2.60\n",
      "3         2.65\n",
      "4         2.65\n",
      "         ...  \n",
      "59278     7.00\n",
      "59279     7.00\n",
      "59280    10.68\n",
      "59281     8.38\n",
      "59282     7.65\n",
      "Name: resale_price, Length: 59283, dtype: float64\n",
      "town                   float64\n",
      "flat_type              float64\n",
      "floor_area_sqm         float64\n",
      "flat_model             float64\n",
      "lease_commence_date    float64\n",
      "CPI Housing            float64\n",
      "dtype: object\n"
     ]
    }
   ],
   "source": [
    "train_targets = train3set.pop('resale_price') / 100000\n",
    "test_targets = test3set.pop('resale_price') / 100000\n",
    "\n",
    "train_data = train3set.copy().drop(columns=['month']).fillna(0).astype('float64')\n",
    "test_data = test3set.copy().drop(columns=['month']).fillna(0).astype('float64')\n",
    "\n",
    "print(train_targets, test_targets)\n",
    "print(train_data.dtypes)"
   ]
  },
  {
   "cell_type": "code",
   "execution_count": 17,
   "id": "9b3cc4ef-1313-4330-84e0-5c7635d5a85e",
   "metadata": {},
   "outputs": [],
   "source": [
    "import numpy as np\n",
    "np.object = object\n",
    "np.bool = np.bool_"
   ]
  },
  {
   "cell_type": "code",
   "execution_count": 18,
   "id": "3f04cdf8-1ffb-4450-a8d5-be131d1493a8",
   "metadata": {
    "scrolled": true
   },
   "outputs": [
    {
     "name": "stdout",
     "output_type": "stream",
     "text": [
      "(87589, 6)\n",
      "[[0.         0.         0.05963303 0.         0.24528302 1.        ]\n",
      " [0.         0.16666667 0.16513761 0.05263158 0.22641509 1.        ]\n",
      " [0.         0.16666667 0.16513761 0.05263158 0.26415094 1.        ]\n",
      " ...\n",
      " [1.         0.66666667 0.50917431 0.21052632 0.39622642 0.37641852]\n",
      " [1.         0.66666667 0.52752294 0.52631579 0.41509434 0.37641852]\n",
      " [1.         0.66666667 0.50917431 0.21052632 0.39622642 0.37641852]]\n"
     ]
    }
   ],
   "source": [
    "from sklearn import preprocessing\n",
    "import tensorflow.keras.utils as utils\n",
    "import tensorflow.data as data\n",
    "\n",
    "scaler = preprocessing.MinMaxScaler()\n",
    "\n",
    "train_data = scaler.fit_transform(train_data)\n",
    "train_data = np.where(np.isfinite(train_data), train_data, 0)\n",
    "\n",
    "test_data =  scaler.fit_transform(test_data)\n",
    "test_data = np.where(np.isfinite(test_data), test_data, 0)\n",
    "\n",
    "print(train_data.shape)\n",
    "print(train_data)\n",
    "\n",
    "#print(test_data.dtypes)"
   ]
  },
  {
   "cell_type": "code",
   "execution_count": 19,
   "id": "3146d7d6-d0f3-43f4-a240-b06b66ed7170",
   "metadata": {},
   "outputs": [],
   "source": [
    "import tensorflow\n",
    "import tensorflow.keras as keras\n",
    "from tensorflow.keras.models import Sequential\n",
    "from tensorflow.keras import layers\n",
    "\n",
    "def rss(y_true, y_pred):\n",
    "    RSS = []\n",
    "    for y_true, y_pred in zip(y_true, y_pred):\n",
    "        RSS.append((y_true-y_pred)**2)\n",
    "        \n",
    "    return sum(RSS)\n",
    "\n",
    "import numpy as np\n",
    "\n",
    "k = 4\n",
    "num_val_samples = len(train_data) // k\n",
    "for i in range(k):\n",
    "    partial_train_data = np.concatenate(                                     \n",
    "        [train_data[:i * num_val_samples],\n",
    "         train_data[(i + 1) * num_val_samples:]],\n",
    "        axis=0)\n",
    "    partial_train_targets = np.concatenate(\n",
    "        [train_targets[:i * num_val_samples],\n",
    "         train_targets[(i + 1) * num_val_samples:]],\n",
    "        axis=0)\n",
    "\n",
    "def build_model():\n",
    "    model = tensorflow.keras.Sequential()    \n",
    "    model.add(layers.Dense(train_data.shape[1], activation='relu', input_shape=(train_data.shape[1],)))\n",
    "    model.add(layers.Dense(1, activation='sigmoid'))\n",
    "    opt = keras.optimizers.RMSprop(lr=0.05, momentum=0.1, clipnorm=1, clipvalue=1)\n",
    "    model.compile(optimizer=opt, loss=rss, metrics=['mean_absolute_error','mean_absolute_percentage_error'], run_eagerly=True)\n",
    "    return model"
   ]
  },
  {
   "cell_type": "code",
   "execution_count": 22,
   "id": "efce7af0-edb2-4e61-9f53-1cac08d7b16d",
   "metadata": {},
   "outputs": [
    {
     "name": "stdout",
     "output_type": "stream",
     "text": [
      "Model: \"sequential_1\"\n",
      "_________________________________________________________________\n",
      "Layer (type)                 Output Shape              Param #   \n",
      "=================================================================\n",
      "dense_2 (Dense)              (None, 6)                 42        \n",
      "_________________________________________________________________\n",
      "dense_3 (Dense)              (None, 1)                 7         \n",
      "=================================================================\n",
      "Total params: 49\n",
      "Trainable params: 49\n",
      "Non-trainable params: 0\n",
      "_________________________________________________________________\n",
      "Epoch 1/15\n",
      "514/514 [==============================] - 31s 61ms/step - loss: 1790.3440 - mean_absolute_error: 3.4097 - mean_absolute_percentage_error: 75.1373\n",
      "Epoch 2/15\n",
      "514/514 [==============================] - 32s 63ms/step - loss: 1772.9562 - mean_absolute_error: 3.3903 - mean_absolute_percentage_error: 74.6465\n",
      "Epoch 3/15\n",
      "514/514 [==============================] - 32s 63ms/step - loss: 1772.8177 - mean_absolute_error: 3.3903 - mean_absolute_percentage_error: 74.6454\n",
      "Epoch 4/15\n",
      "514/514 [==============================] - 31s 61ms/step - loss: 1772.7008 - mean_absolute_error: 3.3900 - mean_absolute_percentage_error: 74.6381\n",
      "Epoch 5/15\n",
      "514/514 [==============================] - 32s 63ms/step - loss: 1772.5710 - mean_absolute_error: 3.3900 - mean_absolute_percentage_error: 74.6382\n",
      "Epoch 6/15\n",
      "514/514 [==============================] - 33s 63ms/step - loss: 1772.8347 - mean_absolute_error: 3.3900 - mean_absolute_percentage_error: 74.6381\n",
      "Epoch 7/15\n",
      "514/514 [==============================] - 33s 63ms/step - loss: 1772.8311 - mean_absolute_error: 3.3900 - mean_absolute_percentage_error: 74.6382\n",
      "Epoch 8/15\n",
      "514/514 [==============================] - 32s 62ms/step - loss: 1772.7292 - mean_absolute_error: 3.3900 - mean_absolute_percentage_error: 74.6382\n",
      "Epoch 9/15\n",
      "514/514 [==============================] - 32s 62ms/step - loss: 1772.7793 - mean_absolute_error: 3.3900 - mean_absolute_percentage_error: 74.6381\n",
      "Epoch 10/15\n",
      "514/514 [==============================] - 32s 62ms/step - loss: 1772.6891 - mean_absolute_error: 3.3900 - mean_absolute_percentage_error: 74.6382\n",
      "Epoch 11/15\n",
      "514/514 [==============================] - 32s 63ms/step - loss: 1772.7670 - mean_absolute_error: 3.3900 - mean_absolute_percentage_error: 74.6381\n",
      "Epoch 12/15\n",
      "514/514 [==============================] - 32s 63ms/step - loss: 1772.6914 - mean_absolute_error: 3.3900 - mean_absolute_percentage_error: 74.6382\n",
      "Epoch 13/15\n",
      "514/514 [==============================] - 32s 62ms/step - loss: 1772.7126 - mean_absolute_error: 3.3900 - mean_absolute_percentage_error: 74.6381\n",
      "Epoch 14/15\n",
      "514/514 [==============================] - 32s 62ms/step - loss: 1772.6642 - mean_absolute_error: 3.3900 - mean_absolute_percentage_error: 74.6382\n",
      "Epoch 15/15\n",
      "514/514 [==============================] - 32s 62ms/step - loss: 1772.6749 - mean_absolute_error: 3.3900 - mean_absolute_percentage_error: 74.6382\n",
      "464/464 [==============================] - 14s 31ms/step - loss: 2739.0549 - mean_absolute_error: 4.3125 - mean_absolute_percentage_error: 79.3185\n",
      "[2739.054931640625, 4.31248140335083, 79.31849670410156]\n"
     ]
    }
   ],
   "source": [
    "model = build_model()\n",
    "model.summary()\n",
    "model.get_weights()\n",
    "model.fit(partial_train_data, partial_train_targets, epochs=15, batch_size=128)\n",
    "results = model.evaluate(test_data, test_targets, batch_size=128)\n",
    "print(results)"
   ]
  },
  {
   "cell_type": "code",
   "execution_count": null,
   "id": "8cde9b94-8229-4e3c-b3ff-fa37a0fdf408",
   "metadata": {},
   "outputs": [],
   "source": []
  }
 ],
 "metadata": {
  "kernelspec": {
   "display_name": "Python 3 (ipykernel)",
   "language": "python",
   "name": "python3"
  },
  "language_info": {
   "codemirror_mode": {
    "name": "ipython",
    "version": 3
   },
   "file_extension": ".py",
   "mimetype": "text/x-python",
   "name": "python",
   "nbconvert_exporter": "python",
   "pygments_lexer": "ipython3",
   "version": "3.8.19"
  }
 },
 "nbformat": 4,
 "nbformat_minor": 5
}
